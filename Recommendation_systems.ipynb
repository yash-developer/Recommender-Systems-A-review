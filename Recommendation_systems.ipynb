{
  "nbformat": 4,
  "nbformat_minor": 0,
  "metadata": {
    "colab": {
      "name": "ANN Project (Recommendation system).ipynb",
      "provenance": [],
      "machine_shape": "hm"
    },
    "kernelspec": {
      "name": "python3",
      "display_name": "Python 3"
    }
  },
  "cells": [
    {
      "cell_type": "markdown",
      "metadata": {
        "id": "JuTdwjo-Rre0",
        "colab_type": "text"
      },
      "source": [
        "# Recomendation Systems and Deep Learning"
      ]
    },
    {
      "cell_type": "markdown",
      "metadata": {
        "id": "PftsrMnjRpUT",
        "colab_type": "text"
      },
      "source": [
        "*Implementing recommedation systems on movie dataset using different approaches and at the end using deep learning.*\n",
        "\n",
        "---\n",
        "\n",
        "**Dataset Used:** MovieLens Dataset of 1 Million ratings for nearly 3,900 Movies by around 6,000 Users. This dataset was selected because it has the feature with which we can use different reccomendation methods on it.\n",
        "\n",
        "\n",
        "---\n",
        "\n",
        "\n",
        "**Methods Implemented:** Content-Based Filtering, Collaborative Filtering, Model Based Filtering, Model based on Deep Learning"
      ]
    },
    {
      "cell_type": "code",
      "metadata": {
        "id": "4IUoStGhebtn",
        "colab_type": "code",
        "colab": {}
      },
      "source": [
        "# Libraries\n",
        "import seaborn as sns\n",
        "import pandas as pd\n",
        "import numpy as np\n",
        "from scipy.sparse.linalg import svds\n",
        "import matplotlib.pyplot as plt\n",
        "from keras.layers import Input\n",
        "from keras.layers.embeddings import Embedding\n",
        "from keras.layers.core import Dense, Reshape, Dropout, Activation, Lambda\n",
        "from keras.models import Model, Sequential\n",
        "from keras.layers import dot, concatenate\n",
        "from keras import optimizers\n",
        "from keras.callbacks import Callback, EarlyStopping, ModelCheckpoint\n",
        "from sklearn.feature_extraction.text import TfidfVectorizer\n",
        "from sklearn.metrics.pairwise import linear_kernel\n",
        "from sklearn.model_selection import train_test_split\n",
        "from sklearn.metrics.pairwise import pairwise_distances\n",
        "from sklearn.metrics import mean_squared_error\n",
        "from math import sqrt"
      ],
      "execution_count": null,
      "outputs": []
    },
    {
      "cell_type": "markdown",
      "metadata": {
        "id": "cXqYnV3vMQpo",
        "colab_type": "text"
      },
      "source": [
        "# Implementation"
      ]
    },
    {
      "cell_type": "markdown",
      "metadata": {
        "id": "ejwNAEg9SnYr",
        "colab_type": "text"
      },
      "source": [
        "Firstly, load data"
      ]
    },
    {
      "cell_type": "code",
      "metadata": {
        "id": "oWDqkf1yMCs7",
        "colab_type": "code",
        "colab": {}
      },
      "source": [
        "# Reading ratings file\n",
        "# Ignore the timestamp column\n",
        "rs_ratings = pd.read_csv('ratings.csv', sep='\\t', encoding='latin-1', usecols=['user_id', 'movie_id', 'rating'])\n",
        "\n",
        "# Reading users file\n",
        "rs_users = pd.read_csv('users.csv', sep='\\t', encoding='latin-1', usecols=['user_id', 'gender', 'zipcode', 'age_desc', 'occ_desc'])\n",
        "\n",
        "# Reading movies file\n",
        "rs_movies = pd.read_csv('movies.csv', sep='\\t', encoding='latin-1', usecols=['movie_id', 'title', 'genres'])"
      ],
      "execution_count": null,
      "outputs": []
    },
    {
      "cell_type": "code",
      "metadata": {
        "id": "zDQ2USCzNBTv",
        "colab_type": "code",
        "colab": {
          "base_uri": "https://localhost:8080/",
          "height": 302
        },
        "outputId": "07e76f3e-d4d5-4df7-d51d-df85f353cf13"
      },
      "source": [
        "# Ratings Distribution\n",
        "sns.set_style('whitegrid')\n",
        "sns.set(font_scale=1)\n",
        "%matplotlib inline\n",
        "\n",
        "# Display distribution of rating\n",
        "sns.distplot(rs_ratings['rating'].fillna(rs_ratings['rating'].mean()))"
      ],
      "execution_count": null,
      "outputs": [
        {
          "output_type": "execute_result",
          "data": {
            "text/plain": [
              "<matplotlib.axes._subplots.AxesSubplot at 0x7faaf5fac9b0>"
            ]
          },
          "metadata": {
            "tags": []
          },
          "execution_count": 6
        },
        {
          "output_type": "display_data",
          "data": {
            "image/png": "[encoded data removed]",
            "text/plain": [
              "<Figure size 432x288 with 1 Axes>"
            ]
          },
          "metadata": {
            "tags": [],
            "needs_background": "light"
          }
        }
      ]
    },
    {
      "cell_type": "code",
      "metadata": {
        "id": "zbg_VxE1O5GE",
        "colab_type": "code",
        "colab": {
          "base_uri": "https://localhost:8080/",
          "height": 359
        },
        "outputId": "80df4c83-18f5-4dba-90a3-073a0eb37af7"
      },
      "source": [
        "# Creating single dataframe\n",
        "dataset = pd.merge(pd.merge(rs_movies, rs_ratings),rs_users)\n",
        "# Top 10 movies.\n",
        "dataset[['title','genres','rating']].sort_values('rating', ascending=False).head(10)"
      ],
      "execution_count": null,
      "outputs": [
        {
          "output_type": "execute_result",
          "data": {
            "text/html": [
              "<div>\n",
              "<style scoped>\n",
              "    .dataframe tbody tr th:only-of-type {\n",
              "        vertical-align: middle;\n",
              "    }\n",
              "\n",
              "    .dataframe tbody tr th {\n",
              "        vertical-align: top;\n",
              "    }\n",
              "\n",
              "    .dataframe thead th {\n",
              "        text-align: right;\n",
              "    }\n",
              "</style>\n",
              "<table border=\"1\" class=\"dataframe\">\n",
              "  <thead>\n",
              "    <tr style=\"text-align: right;\">\n",
              "      <th></th>\n",
              "      <th>title</th>\n",
              "      <th>genres</th>\n",
              "      <th>rating</th>\n",
              "    </tr>\n",
              "  </thead>\n",
              "  <tbody>\n",
              "    <tr>\n",
              "      <th>0</th>\n",
              "      <td>Toy Story (1995)</td>\n",
              "      <td>Animation|Children's|Comedy</td>\n",
              "      <td>5</td>\n",
              "    </tr>\n",
              "    <tr>\n",
              "      <th>489283</th>\n",
              "      <td>American Beauty (1999)</td>\n",
              "      <td>Comedy|Drama</td>\n",
              "      <td>5</td>\n",
              "    </tr>\n",
              "    <tr>\n",
              "      <th>489259</th>\n",
              "      <td>Election (1999)</td>\n",
              "      <td>Comedy</td>\n",
              "      <td>5</td>\n",
              "    </tr>\n",
              "    <tr>\n",
              "      <th>489257</th>\n",
              "      <td>Matrix, The (1999)</td>\n",
              "      <td>Action|Sci-Fi|Thriller</td>\n",
              "      <td>5</td>\n",
              "    </tr>\n",
              "    <tr>\n",
              "      <th>489256</th>\n",
              "      <td>Dead Ringers (1988)</td>\n",
              "      <td>Drama|Thriller</td>\n",
              "      <td>5</td>\n",
              "    </tr>\n",
              "    <tr>\n",
              "      <th>489237</th>\n",
              "      <td>Rushmore (1998)</td>\n",
              "      <td>Comedy</td>\n",
              "      <td>5</td>\n",
              "    </tr>\n",
              "    <tr>\n",
              "      <th>489236</th>\n",
              "      <td>Simple Plan, A (1998)</td>\n",
              "      <td>Crime|Thriller</td>\n",
              "      <td>5</td>\n",
              "    </tr>\n",
              "    <tr>\n",
              "      <th>489226</th>\n",
              "      <td>Hands on a Hard Body (1996)</td>\n",
              "      <td>Documentary</td>\n",
              "      <td>5</td>\n",
              "    </tr>\n",
              "    <tr>\n",
              "      <th>489224</th>\n",
              "      <td>Pleasantville (1998)</td>\n",
              "      <td>Comedy</td>\n",
              "      <td>5</td>\n",
              "    </tr>\n",
              "    <tr>\n",
              "      <th>489212</th>\n",
              "      <td>Say Anything... (1989)</td>\n",
              "      <td>Comedy|Drama|Romance</td>\n",
              "      <td>5</td>\n",
              "    </tr>\n",
              "  </tbody>\n",
              "</table>\n",
              "</div>"
            ],
            "text/plain": [
              "                              title                       genres  rating\n",
              "0                  Toy Story (1995)  Animation|Children's|Comedy       5\n",
              "489283       American Beauty (1999)                 Comedy|Drama       5\n",
              "489259              Election (1999)                       Comedy       5\n",
              "489257           Matrix, The (1999)       Action|Sci-Fi|Thriller       5\n",
              "489256          Dead Ringers (1988)               Drama|Thriller       5\n",
              "489237              Rushmore (1998)                       Comedy       5\n",
              "489236        Simple Plan, A (1998)               Crime|Thriller       5\n",
              "489226  Hands on a Hard Body (1996)                  Documentary       5\n",
              "489224         Pleasantville (1998)                       Comedy       5\n",
              "489212       Say Anything... (1989)         Comedy|Drama|Romance       5"
            ]
          },
          "metadata": {
            "tags": []
          },
          "execution_count": 7
        }
      ]
    },
    {
      "cell_type": "markdown",
      "metadata": {
        "id": "2uRbtCGMStFM",
        "colab_type": "text"
      },
      "source": [
        "## Content-Based Filtering"
      ]
    },
    {
      "cell_type": "markdown",
      "metadata": {
        "id": "qmFElpEqXLyn",
        "colab_type": "text"
      },
      "source": [
        "We will be using TF-IDF that is Term Frequency-Inverse Document Frequency.\n",
        "\n",
        "TF-IDF is a numerical statistic that is intended to reflect how important a word is to a document in a collection or corpus.\n",
        "\n",
        " **tfidf(t, d, D) = tf(t, d) * idf(t, D)**\n",
        "\n",
        "Where **tf(t,d)** is Term Frequency, the variant used is a raw count of the occurence of the word t in d.\n",
        "\n",
        "And **idf(t, D)** is Inverse Document Frequency the variant used is log scaled fraction of the total number of documents by the number of documents containing the term. \n",
        "\n",
        "This calculation will help find the relative importance of movies.\n",
        "\n",
        "In the next part Vector Space Model is used to find the relevence ranking of movies based on genres. Vector Space Model basically by finding angle between the vectors we can find which movies are closely related to each other, the lesser the angle more similar the movies are to each other. We will use Cosine Similarity will be used it is basically the dot product of the vectors. Larger the Cosine value More Similar the movies are.\n"
      ]
    },
    {
      "cell_type": "code",
      "metadata": {
        "id": "M_tFAOCeP5ee",
        "colab_type": "code",
        "colab": {}
      },
      "source": [
        "# Split the genre column \n",
        "rs_movies['genres'] = rs_movies['genres'].str.split('|')\n",
        "rs_movies['genres'] = rs_movies['genres'].fillna(\"\").astype('str')\n",
        "\n",
        "rs_tf = TfidfVectorizer(analyzer='word',ngram_range=(1, 2),min_df=0, stop_words='english')\n",
        "rs_tfidf_matrix = rs_tf.fit_transform(rs_movies['genres'])\n",
        "\n",
        "# Cosine Similarity using dot product of vectors\n",
        "rs_cosine_sim = linear_kernel(rs_tfidf_matrix, rs_tfidf_matrix)"
      ],
      "execution_count": null,
      "outputs": []
    },
    {
      "cell_type": "code",
      "metadata": {
        "id": "zfxz95FYf6mY",
        "colab_type": "code",
        "colab": {}
      },
      "source": [
        "titles = rs_movies['title']\n",
        "indices = pd.Series(rs_movies.index, index=rs_movies['title'])\n",
        "\n",
        "def rs_recommendFunction(title):\n",
        "    idx = indices[title]\n",
        "    sim_scores = list(enumerate(rs_cosine_sim[idx]))\n",
        "    sim_scores = sorted(sim_scores, key=lambda x: x[1], reverse=True)\n",
        "    sim_scores = sim_scores[1:21]\n",
        "    movie_indices = [i[0] for i in sim_scores]\n",
        "    return titles.iloc[movie_indices]"
      ],
      "execution_count": null,
      "outputs": []
    },
    {
      "cell_type": "code",
      "metadata": {
        "id": "GZDdmoJGgh5k",
        "colab_type": "code",
        "colab": {
          "base_uri": "https://localhost:8080/",
          "height": 204
        },
        "outputId": "7f444481-326a-466d-bb61-f7302d4db8c6"
      },
      "source": [
        "# Top 10 recommendation for movie: The Matrix\n",
        "rs_recommendFunction('American Beauty (1999)').head(10)"
      ],
      "execution_count": null,
      "outputs": [
        {
          "output_type": "execute_result",
          "data": {
            "text/plain": [
              "44                              To Die For (1995)\n",
              "71                   Kicking and Screaming (1995)\n",
              "74                               Big Bully (1996)\n",
              "83             Last Summer in the Hamptons (1995)\n",
              "104    Nobody Loves Me (Keiner liebt mich) (1994)\n",
              "131                              Nueba Yol (1995)\n",
              "164                   Doom Generation, The (1995)\n",
              "203                        Unstrung Heroes (1995)\n",
              "216                       Boys on the Side (1995)\n",
              "229                    Eat Drink Man Woman (1994)\n",
              "Name: title, dtype: object"
            ]
          },
          "metadata": {
            "tags": []
          },
          "execution_count": 10
        }
      ]
    },
    {
      "cell_type": "markdown",
      "metadata": {
        "id": "F0sbgad4iDsJ",
        "colab_type": "text"
      },
      "source": [
        "The Content-Based Filtering approach doesn't face the cold start problem and the long tail problem as it doesn't need other users data and not so popular movies will also show up in recommendations based on similarity\n",
        "\n",
        "But the main disadvantages would be that it would not take into account other users and will be restricted to the users own profile."
      ]
    },
    {
      "cell_type": "markdown",
      "metadata": {
        "id": "C6EguJSPmfBc",
        "colab_type": "text"
      },
      "source": [
        "# Memory-Based Collaborative Filtering\n",
        "\n",
        "1) User-User Collaborative Filtering\n",
        "\n",
        "2) Item-Item Collaborative Filtering"
      ]
    },
    {
      "cell_type": "markdown",
      "metadata": {
        "id": "vsIoHRitmjTn",
        "colab_type": "text"
      },
      "source": [
        ""
      ]
    },
    {
      "cell_type": "code",
      "metadata": {
        "id": "W-VdINL2K4Zg",
        "colab_type": "code",
        "colab": {
          "base_uri": "https://localhost:8080/",
          "height": 204
        },
        "outputId": "67df1bd7-b939-427c-fa42-c7f64e87cd18"
      },
      "source": [
        "# Fill NaN values in user_id and movie_id column with 0\n",
        "rs_ratings['user_id'] = rs_ratings['user_id'].fillna(0)\n",
        "rs_ratings['movie_id'] = rs_ratings['movie_id'].fillna(0)\n",
        "\n",
        "# Replace NaN values in rating column with average of all values\n",
        "rs_ratings['rating'] = rs_ratings['rating'].fillna(rs_ratings['rating'].mean())\n",
        "\n",
        "# Using 2% of Data because of limited computing power\n",
        "data_fraction = rs_ratings.sample(frac=0.02)\n",
        "\n",
        "# Spliting data into 80 to 20 ratio.\n",
        "train_data, test_data = train_test_split(data_fraction, test_size=0.2)\n",
        "\n",
        "train_data = np.array(train_data)\n",
        "test_data =  np.array(test_data)\n",
        "# Check their shape\n",
        "print(data_fraction.info())"
      ],
      "execution_count": null,
      "outputs": [
        {
          "output_type": "stream",
          "text": [
            "<class 'pandas.core.frame.DataFrame'>\n",
            "Int64Index: 20004 entries, 240216 to 88367\n",
            "Data columns (total 3 columns):\n",
            " #   Column    Non-Null Count  Dtype\n",
            "---  ------    --------------  -----\n",
            " 0   user_id   20004 non-null  int64\n",
            " 1   movie_id  20004 non-null  int64\n",
            " 2   rating    20004 non-null  int64\n",
            "dtypes: int64(3)\n",
            "memory usage: 625.1 KB\n",
            "None\n"
          ],
          "name": "stdout"
        }
      ]
    },
    {
      "cell_type": "code",
      "metadata": {
        "id": "uyuHBfnuzNSA",
        "colab_type": "code",
        "colab": {
          "base_uri": "https://localhost:8080/",
          "height": 85
        },
        "outputId": "f6acad22-5231-496e-fedf-d7520c0f3bba"
      },
      "source": [
        "# User Similarity Matrix\n",
        "user_correlation = 1 - pairwise_distances(train_data, metric='correlation')\n",
        "user_correlation[np.isnan(user_correlation)] = 0\n",
        "print(user_correlation[:4, :4])"
      ],
      "execution_count": null,
      "outputs": [
        {
          "output_type": "stream",
          "text": [
            "[[1.         0.80704222 0.88245059 0.98444584]\n",
            " [0.80704222 1.         0.98994615 0.89823221]\n",
            " [0.88245059 0.98994615 1.         0.9513695 ]\n",
            " [0.98444584 0.89823221 0.9513695  1.        ]]\n"
          ],
          "name": "stdout"
        }
      ]
    },
    {
      "cell_type": "code",
      "metadata": {
        "id": "SEmUMaCQzXkm",
        "colab_type": "code",
        "colab": {
          "base_uri": "https://localhost:8080/",
          "height": 68
        },
        "outputId": "65cdf5e7-57fa-4281-f1c0-ef25282f95a1"
      },
      "source": [
        "# Item Similarity Matrix\n",
        "item_correlation = 1 - pairwise_distances(train_data.T, metric='correlation')\n",
        "item_correlation[np.isnan(item_correlation)] = 0\n",
        "print(item_correlation[:4, :4])"
      ],
      "execution_count": null,
      "outputs": [
        {
          "output_type": "stream",
          "text": [
            "[[ 1.         -0.02035466  0.00706306]\n",
            " [-0.02035466  1.         -0.05931685]\n",
            " [ 0.00706306 -0.05931685  1.        ]]\n"
          ],
          "name": "stdout"
        }
      ]
    },
    {
      "cell_type": "code",
      "metadata": {
        "id": "PhcJqRqI26aW",
        "colab_type": "code",
        "colab": {}
      },
      "source": [
        "# Prediction function for Memory-based Collaborative Filtering\n",
        "def mem_colab_predict(ratings, similarity, type='user-user'):\n",
        "    if type == 'user-user':\n",
        "        mean_user_rating = ratings.mean(axis=1)\n",
        "        # Use np.newaxis so that mean_user_rating has same format as ratings\n",
        "        ratings_diff = (ratings - mean_user_rating[:, np.newaxis])\n",
        "        pred = mean_user_rating[:, np.newaxis] + similarity.dot(ratings_diff) / np.array([np.abs(similarity).sum(axis=1)]).T\n",
        "    elif type == 'item-item':\n",
        "        pred = ratings.dot(similarity) / np.array([np.abs(similarity).sum(axis=1)])\n",
        "    return pred"
      ],
      "execution_count": null,
      "outputs": []
    },
    {
      "cell_type": "code",
      "metadata": {
        "id": "61_skvXz3I9P",
        "colab_type": "code",
        "colab": {}
      },
      "source": [
        "# Function to calculate RMSE\n",
        "def rmse(pred, actual):\n",
        "    # Ignore nonzero terms.\n",
        "    pred = pred[actual.nonzero()].flatten()\n",
        "    actual = actual[actual.nonzero()].flatten()\n",
        "    mse = mean_squared_error(pred, actual)\n",
        "    rmse = sqrt(mse)\n",
        "    return rmse"
      ],
      "execution_count": null,
      "outputs": []
    },
    {
      "cell_type": "code",
      "metadata": {
        "id": "G6iM5Krp3c1-",
        "colab_type": "code",
        "colab": {}
      },
      "source": [
        "# Predict ratings on the training data with both similarity score\n",
        "user_colab_predict = mem_colab_predict(train_data, user_correlation, type='user-user')\n",
        "item_colab_predict = mem_colab_predict(train_data, item_correlation, type='item-item')"
      ],
      "execution_count": null,
      "outputs": []
    },
    {
      "cell_type": "code",
      "metadata": {
        "id": "nNx--z1r95GK",
        "colab_type": "code",
        "colab": {
          "base_uri": "https://localhost:8080/",
          "height": 51
        },
        "outputId": "e5721874-7dec-416a-ee51-4ed6538ceddb"
      },
      "source": [
        "# RMSE on the test data\n",
        "\n",
        "print('User-based CF RMSE: ' + str(rmse(user_colab_predict, test_data)))\n",
        "print('Item-based CF RMSE: ' + str(rmse(item_colab_predict, test_data)))"
      ],
      "execution_count": null,
      "outputs": [
        {
          "output_type": "stream",
          "text": [
            "User-based CF RMSE: 1424.2761079337524\n",
            "Item-based CF RMSE: 1648.7069650061228\n"
          ],
          "name": "stdout"
        }
      ]
    },
    {
      "cell_type": "code",
      "metadata": {
        "id": "qOgMFjDuBAxZ",
        "colab_type": "code",
        "colab": {
          "base_uri": "https://localhost:8080/",
          "height": 51
        },
        "outputId": "dc5b2f42-8452-4f32-c8d5-e50c95ff207e"
      },
      "source": [
        "# RMSE on the train data\n",
        "print('User-based CF RMSE: ' + str(rmse(user_colab_predict, train_data)))\n",
        "print('Item-based CF RMSE: ' + str(rmse(item_colab_predict, train_data)))"
      ],
      "execution_count": null,
      "outputs": [
        {
          "output_type": "stream",
          "text": [
            "User-based CF RMSE: 698.6082123333912\n",
            "Item-based CF RMSE: 155.42085866512022\n"
          ],
          "name": "stdout"
        }
      ]
    },
    {
      "cell_type": "markdown",
      "metadata": {
        "id": "iLNRUSSkSnG2",
        "colab_type": "text"
      },
      "source": [
        "The Memory-Based Collaborative Filtering approach is easier in implementation and deployment.\n",
        "\n",
        "But the main disadvantages would be that it would not solve the cold start problem. another problem is difficulty with sparse data and propensity towards popular movies.\n",
        "\n",
        "Problems with this approach is that this method doesn't scale well with larger datasets and the recommendations given to the users are not very good as we can see the root mean squared error is quite large"
      ]
    },
    {
      "cell_type": "markdown",
      "metadata": {
        "id": "M0WOI5M1VGCa",
        "colab_type": "text"
      },
      "source": [
        "# Model-Based Collaborative Filtering\n",
        "\n",
        "Method: Matrix Factorization\n",
        "\n",
        "We will use Singular Vector Decomposition which is a dimensionality reduction technique.\n",
        "\n",
        "First Lets Load the data again"
      ]
    },
    {
      "cell_type": "code",
      "metadata": {
        "id": "44wBg7ydXqvf",
        "colab_type": "code",
        "colab": {
          "base_uri": "https://localhost:8080/",
          "height": 51
        },
        "outputId": "40e42a7e-066d-45b7-cfd8-e95809a8d4dd"
      },
      "source": [
        "# Reading ratings file\n",
        "svd_rs_ratings = pd.read_csv('ratings.csv', sep='\\t', encoding='latin-1', usecols=['user_id', 'movie_id', 'rating', 'timestamp'])\n",
        "\n",
        "# Reading users file\n",
        "svd_rs_users = pd.read_csv('users.csv', sep='\\t', encoding='latin-1', usecols=['user_id', 'gender', 'zipcode', 'age_desc', 'occ_desc'])\n",
        "\n",
        "# Reading movies file\n",
        "svd_rs_movies = pd.read_csv('movies.csv', sep='\\t', encoding='latin-1', usecols=['movie_id', 'title', 'genres'])\n",
        "\n",
        "n_users = svd_rs_ratings.user_id.unique().shape[0]\n",
        "n_movies = svd_rs_ratings.movie_id.unique().shape[0]\n",
        "print('Number of users = ',str(n_users),'\\nNumber of movies = ',str(n_movies))"
      ],
      "execution_count": null,
      "outputs": [
        {
          "output_type": "stream",
          "text": [
            "Number of users =  6040 \n",
            "Number of movies =  3706\n"
          ],
          "name": "stdout"
        }
      ]
    },
    {
      "cell_type": "code",
      "metadata": {
        "id": "Mi4Tbk-AY_W0",
        "colab_type": "code",
        "colab": {
          "base_uri": "https://localhost:8080/",
          "height": 284
        },
        "outputId": "8fc68293-0f04-432a-d77e-58e40706a376"
      },
      "source": [
        "new_ratings = svd_rs_ratings.pivot(index = 'user_id', columns ='movie_id', values = 'rating').fillna(0)\n",
        "new_ratings.head()"
      ],
      "execution_count": null,
      "outputs": [
        {
          "output_type": "execute_result",
          "data": {
            "text/html": [
              "<div>\n",
              "<style scoped>\n",
              "    .dataframe tbody tr th:only-of-type {\n",
              "        vertical-align: middle;\n",
              "    }\n",
              "\n",
              "    .dataframe tbody tr th {\n",
              "        vertical-align: top;\n",
              "    }\n",
              "\n",
              "    .dataframe thead th {\n",
              "        text-align: right;\n",
              "    }\n",
              "</style>\n",
              "<table border=\"1\" class=\"dataframe\">\n",
              "  <thead>\n",
              "    <tr style=\"text-align: right;\">\n",
              "      <th>movie_id</th>\n",
              "      <th>1</th>\n",
              "      <th>2</th>\n",
              "      <th>3</th>\n",
              "      <th>4</th>\n",
              "      <th>5</th>\n",
              "      <th>6</th>\n",
              "      <th>7</th>\n",
              "      <th>8</th>\n",
              "      <th>9</th>\n",
              "      <th>10</th>\n",
              "      <th>11</th>\n",
              "      <th>12</th>\n",
              "      <th>13</th>\n",
              "      <th>14</th>\n",
              "      <th>15</th>\n",
              "      <th>16</th>\n",
              "      <th>17</th>\n",
              "      <th>18</th>\n",
              "      <th>19</th>\n",
              "      <th>20</th>\n",
              "      <th>21</th>\n",
              "      <th>22</th>\n",
              "      <th>23</th>\n",
              "      <th>24</th>\n",
              "      <th>25</th>\n",
              "      <th>26</th>\n",
              "      <th>27</th>\n",
              "      <th>28</th>\n",
              "      <th>29</th>\n",
              "      <th>30</th>\n",
              "      <th>31</th>\n",
              "      <th>32</th>\n",
              "      <th>33</th>\n",
              "      <th>34</th>\n",
              "      <th>35</th>\n",
              "      <th>36</th>\n",
              "      <th>37</th>\n",
              "      <th>38</th>\n",
              "      <th>39</th>\n",
              "      <th>40</th>\n",
              "      <th>...</th>\n",
              "      <th>3913</th>\n",
              "      <th>3914</th>\n",
              "      <th>3915</th>\n",
              "      <th>3916</th>\n",
              "      <th>3917</th>\n",
              "      <th>3918</th>\n",
              "      <th>3919</th>\n",
              "      <th>3920</th>\n",
              "      <th>3921</th>\n",
              "      <th>3922</th>\n",
              "      <th>3923</th>\n",
              "      <th>3924</th>\n",
              "      <th>3925</th>\n",
              "      <th>3926</th>\n",
              "      <th>3927</th>\n",
              "      <th>3928</th>\n",
              "      <th>3929</th>\n",
              "      <th>3930</th>\n",
              "      <th>3931</th>\n",
              "      <th>3932</th>\n",
              "      <th>3933</th>\n",
              "      <th>3934</th>\n",
              "      <th>3935</th>\n",
              "      <th>3936</th>\n",
              "      <th>3937</th>\n",
              "      <th>3938</th>\n",
              "      <th>3939</th>\n",
              "      <th>3940</th>\n",
              "      <th>3941</th>\n",
              "      <th>3942</th>\n",
              "      <th>3943</th>\n",
              "      <th>3944</th>\n",
              "      <th>3945</th>\n",
              "      <th>3946</th>\n",
              "      <th>3947</th>\n",
              "      <th>3948</th>\n",
              "      <th>3949</th>\n",
              "      <th>3950</th>\n",
              "      <th>3951</th>\n",
              "      <th>3952</th>\n",
              "    </tr>\n",
              "    <tr>\n",
              "      <th>user_id</th>\n",
              "      <th></th>\n",
              "      <th></th>\n",
              "      <th></th>\n",
              "      <th></th>\n",
              "      <th></th>\n",
              "      <th></th>\n",
              "      <th></th>\n",
              "      <th></th>\n",
              "      <th></th>\n",
              "      <th></th>\n",
              "      <th></th>\n",
              "      <th></th>\n",
              "      <th></th>\n",
              "      <th></th>\n",
              "      <th></th>\n",
              "      <th></th>\n",
              "      <th></th>\n",
              "      <th></th>\n",
              "      <th></th>\n",
              "      <th></th>\n",
              "      <th></th>\n",
              "      <th></th>\n",
              "      <th></th>\n",
              "      <th></th>\n",
              "      <th></th>\n",
              "      <th></th>\n",
              "      <th></th>\n",
              "      <th></th>\n",
              "      <th></th>\n",
              "      <th></th>\n",
              "      <th></th>\n",
              "      <th></th>\n",
              "      <th></th>\n",
              "      <th></th>\n",
              "      <th></th>\n",
              "      <th></th>\n",
              "      <th></th>\n",
              "      <th></th>\n",
              "      <th></th>\n",
              "      <th></th>\n",
              "      <th></th>\n",
              "      <th></th>\n",
              "      <th></th>\n",
              "      <th></th>\n",
              "      <th></th>\n",
              "      <th></th>\n",
              "      <th></th>\n",
              "      <th></th>\n",
              "      <th></th>\n",
              "      <th></th>\n",
              "      <th></th>\n",
              "      <th></th>\n",
              "      <th></th>\n",
              "      <th></th>\n",
              "      <th></th>\n",
              "      <th></th>\n",
              "      <th></th>\n",
              "      <th></th>\n",
              "      <th></th>\n",
              "      <th></th>\n",
              "      <th></th>\n",
              "      <th></th>\n",
              "      <th></th>\n",
              "      <th></th>\n",
              "      <th></th>\n",
              "      <th></th>\n",
              "      <th></th>\n",
              "      <th></th>\n",
              "      <th></th>\n",
              "      <th></th>\n",
              "      <th></th>\n",
              "      <th></th>\n",
              "      <th></th>\n",
              "      <th></th>\n",
              "      <th></th>\n",
              "      <th></th>\n",
              "      <th></th>\n",
              "      <th></th>\n",
              "      <th></th>\n",
              "      <th></th>\n",
              "      <th></th>\n",
              "    </tr>\n",
              "  </thead>\n",
              "  <tbody>\n",
              "    <tr>\n",
              "      <th>1</th>\n",
              "      <td>5.0</td>\n",
              "      <td>0.0</td>\n",
              "      <td>0.0</td>\n",
              "      <td>0.0</td>\n",
              "      <td>0.0</td>\n",
              "      <td>0.0</td>\n",
              "      <td>0.0</td>\n",
              "      <td>0.0</td>\n",
              "      <td>0.0</td>\n",
              "      <td>0.0</td>\n",
              "      <td>0.0</td>\n",
              "      <td>0.0</td>\n",
              "      <td>0.0</td>\n",
              "      <td>0.0</td>\n",
              "      <td>0.0</td>\n",
              "      <td>0.0</td>\n",
              "      <td>0.0</td>\n",
              "      <td>0.0</td>\n",
              "      <td>0.0</td>\n",
              "      <td>0.0</td>\n",
              "      <td>0.0</td>\n",
              "      <td>0.0</td>\n",
              "      <td>0.0</td>\n",
              "      <td>0.0</td>\n",
              "      <td>0.0</td>\n",
              "      <td>0.0</td>\n",
              "      <td>0.0</td>\n",
              "      <td>0.0</td>\n",
              "      <td>0.0</td>\n",
              "      <td>0.0</td>\n",
              "      <td>0.0</td>\n",
              "      <td>0.0</td>\n",
              "      <td>0.0</td>\n",
              "      <td>0.0</td>\n",
              "      <td>0.0</td>\n",
              "      <td>0.0</td>\n",
              "      <td>0.0</td>\n",
              "      <td>0.0</td>\n",
              "      <td>0.0</td>\n",
              "      <td>0.0</td>\n",
              "      <td>...</td>\n",
              "      <td>0.0</td>\n",
              "      <td>0.0</td>\n",
              "      <td>0.0</td>\n",
              "      <td>0.0</td>\n",
              "      <td>0.0</td>\n",
              "      <td>0.0</td>\n",
              "      <td>0.0</td>\n",
              "      <td>0.0</td>\n",
              "      <td>0.0</td>\n",
              "      <td>0.0</td>\n",
              "      <td>0.0</td>\n",
              "      <td>0.0</td>\n",
              "      <td>0.0</td>\n",
              "      <td>0.0</td>\n",
              "      <td>0.0</td>\n",
              "      <td>0.0</td>\n",
              "      <td>0.0</td>\n",
              "      <td>0.0</td>\n",
              "      <td>0.0</td>\n",
              "      <td>0.0</td>\n",
              "      <td>0.0</td>\n",
              "      <td>0.0</td>\n",
              "      <td>0.0</td>\n",
              "      <td>0.0</td>\n",
              "      <td>0.0</td>\n",
              "      <td>0.0</td>\n",
              "      <td>0.0</td>\n",
              "      <td>0.0</td>\n",
              "      <td>0.0</td>\n",
              "      <td>0.0</td>\n",
              "      <td>0.0</td>\n",
              "      <td>0.0</td>\n",
              "      <td>0.0</td>\n",
              "      <td>0.0</td>\n",
              "      <td>0.0</td>\n",
              "      <td>0.0</td>\n",
              "      <td>0.0</td>\n",
              "      <td>0.0</td>\n",
              "      <td>0.0</td>\n",
              "      <td>0.0</td>\n",
              "    </tr>\n",
              "    <tr>\n",
              "      <th>2</th>\n",
              "      <td>0.0</td>\n",
              "      <td>0.0</td>\n",
              "      <td>0.0</td>\n",
              "      <td>0.0</td>\n",
              "      <td>0.0</td>\n",
              "      <td>0.0</td>\n",
              "      <td>0.0</td>\n",
              "      <td>0.0</td>\n",
              "      <td>0.0</td>\n",
              "      <td>0.0</td>\n",
              "      <td>0.0</td>\n",
              "      <td>0.0</td>\n",
              "      <td>0.0</td>\n",
              "      <td>0.0</td>\n",
              "      <td>0.0</td>\n",
              "      <td>0.0</td>\n",
              "      <td>0.0</td>\n",
              "      <td>0.0</td>\n",
              "      <td>0.0</td>\n",
              "      <td>0.0</td>\n",
              "      <td>1.0</td>\n",
              "      <td>0.0</td>\n",
              "      <td>0.0</td>\n",
              "      <td>0.0</td>\n",
              "      <td>0.0</td>\n",
              "      <td>0.0</td>\n",
              "      <td>0.0</td>\n",
              "      <td>0.0</td>\n",
              "      <td>0.0</td>\n",
              "      <td>0.0</td>\n",
              "      <td>0.0</td>\n",
              "      <td>0.0</td>\n",
              "      <td>0.0</td>\n",
              "      <td>0.0</td>\n",
              "      <td>0.0</td>\n",
              "      <td>0.0</td>\n",
              "      <td>0.0</td>\n",
              "      <td>0.0</td>\n",
              "      <td>0.0</td>\n",
              "      <td>0.0</td>\n",
              "      <td>...</td>\n",
              "      <td>0.0</td>\n",
              "      <td>0.0</td>\n",
              "      <td>0.0</td>\n",
              "      <td>0.0</td>\n",
              "      <td>0.0</td>\n",
              "      <td>0.0</td>\n",
              "      <td>0.0</td>\n",
              "      <td>0.0</td>\n",
              "      <td>0.0</td>\n",
              "      <td>0.0</td>\n",
              "      <td>0.0</td>\n",
              "      <td>0.0</td>\n",
              "      <td>0.0</td>\n",
              "      <td>0.0</td>\n",
              "      <td>0.0</td>\n",
              "      <td>0.0</td>\n",
              "      <td>0.0</td>\n",
              "      <td>0.0</td>\n",
              "      <td>0.0</td>\n",
              "      <td>0.0</td>\n",
              "      <td>0.0</td>\n",
              "      <td>0.0</td>\n",
              "      <td>0.0</td>\n",
              "      <td>0.0</td>\n",
              "      <td>0.0</td>\n",
              "      <td>0.0</td>\n",
              "      <td>0.0</td>\n",
              "      <td>0.0</td>\n",
              "      <td>0.0</td>\n",
              "      <td>0.0</td>\n",
              "      <td>0.0</td>\n",
              "      <td>0.0</td>\n",
              "      <td>0.0</td>\n",
              "      <td>0.0</td>\n",
              "      <td>0.0</td>\n",
              "      <td>0.0</td>\n",
              "      <td>0.0</td>\n",
              "      <td>0.0</td>\n",
              "      <td>0.0</td>\n",
              "      <td>0.0</td>\n",
              "    </tr>\n",
              "    <tr>\n",
              "      <th>3</th>\n",
              "      <td>0.0</td>\n",
              "      <td>0.0</td>\n",
              "      <td>0.0</td>\n",
              "      <td>0.0</td>\n",
              "      <td>0.0</td>\n",
              "      <td>0.0</td>\n",
              "      <td>0.0</td>\n",
              "      <td>0.0</td>\n",
              "      <td>0.0</td>\n",
              "      <td>0.0</td>\n",
              "      <td>0.0</td>\n",
              "      <td>0.0</td>\n",
              "      <td>0.0</td>\n",
              "      <td>0.0</td>\n",
              "      <td>0.0</td>\n",
              "      <td>0.0</td>\n",
              "      <td>0.0</td>\n",
              "      <td>0.0</td>\n",
              "      <td>0.0</td>\n",
              "      <td>0.0</td>\n",
              "      <td>0.0</td>\n",
              "      <td>0.0</td>\n",
              "      <td>0.0</td>\n",
              "      <td>0.0</td>\n",
              "      <td>0.0</td>\n",
              "      <td>0.0</td>\n",
              "      <td>0.0</td>\n",
              "      <td>0.0</td>\n",
              "      <td>0.0</td>\n",
              "      <td>0.0</td>\n",
              "      <td>0.0</td>\n",
              "      <td>0.0</td>\n",
              "      <td>0.0</td>\n",
              "      <td>0.0</td>\n",
              "      <td>0.0</td>\n",
              "      <td>0.0</td>\n",
              "      <td>0.0</td>\n",
              "      <td>0.0</td>\n",
              "      <td>0.0</td>\n",
              "      <td>0.0</td>\n",
              "      <td>...</td>\n",
              "      <td>0.0</td>\n",
              "      <td>0.0</td>\n",
              "      <td>0.0</td>\n",
              "      <td>0.0</td>\n",
              "      <td>0.0</td>\n",
              "      <td>0.0</td>\n",
              "      <td>0.0</td>\n",
              "      <td>0.0</td>\n",
              "      <td>0.0</td>\n",
              "      <td>0.0</td>\n",
              "      <td>0.0</td>\n",
              "      <td>0.0</td>\n",
              "      <td>0.0</td>\n",
              "      <td>0.0</td>\n",
              "      <td>0.0</td>\n",
              "      <td>0.0</td>\n",
              "      <td>0.0</td>\n",
              "      <td>0.0</td>\n",
              "      <td>0.0</td>\n",
              "      <td>0.0</td>\n",
              "      <td>0.0</td>\n",
              "      <td>0.0</td>\n",
              "      <td>0.0</td>\n",
              "      <td>0.0</td>\n",
              "      <td>0.0</td>\n",
              "      <td>0.0</td>\n",
              "      <td>0.0</td>\n",
              "      <td>0.0</td>\n",
              "      <td>0.0</td>\n",
              "      <td>0.0</td>\n",
              "      <td>0.0</td>\n",
              "      <td>0.0</td>\n",
              "      <td>0.0</td>\n",
              "      <td>0.0</td>\n",
              "      <td>0.0</td>\n",
              "      <td>0.0</td>\n",
              "      <td>0.0</td>\n",
              "      <td>0.0</td>\n",
              "      <td>0.0</td>\n",
              "      <td>0.0</td>\n",
              "    </tr>\n",
              "    <tr>\n",
              "      <th>4</th>\n",
              "      <td>0.0</td>\n",
              "      <td>0.0</td>\n",
              "      <td>0.0</td>\n",
              "      <td>0.0</td>\n",
              "      <td>0.0</td>\n",
              "      <td>0.0</td>\n",
              "      <td>0.0</td>\n",
              "      <td>0.0</td>\n",
              "      <td>0.0</td>\n",
              "      <td>0.0</td>\n",
              "      <td>0.0</td>\n",
              "      <td>0.0</td>\n",
              "      <td>0.0</td>\n",
              "      <td>0.0</td>\n",
              "      <td>0.0</td>\n",
              "      <td>0.0</td>\n",
              "      <td>0.0</td>\n",
              "      <td>0.0</td>\n",
              "      <td>0.0</td>\n",
              "      <td>0.0</td>\n",
              "      <td>0.0</td>\n",
              "      <td>0.0</td>\n",
              "      <td>0.0</td>\n",
              "      <td>0.0</td>\n",
              "      <td>0.0</td>\n",
              "      <td>0.0</td>\n",
              "      <td>0.0</td>\n",
              "      <td>0.0</td>\n",
              "      <td>0.0</td>\n",
              "      <td>0.0</td>\n",
              "      <td>0.0</td>\n",
              "      <td>0.0</td>\n",
              "      <td>0.0</td>\n",
              "      <td>0.0</td>\n",
              "      <td>0.0</td>\n",
              "      <td>0.0</td>\n",
              "      <td>0.0</td>\n",
              "      <td>0.0</td>\n",
              "      <td>0.0</td>\n",
              "      <td>0.0</td>\n",
              "      <td>...</td>\n",
              "      <td>0.0</td>\n",
              "      <td>0.0</td>\n",
              "      <td>0.0</td>\n",
              "      <td>0.0</td>\n",
              "      <td>0.0</td>\n",
              "      <td>0.0</td>\n",
              "      <td>0.0</td>\n",
              "      <td>0.0</td>\n",
              "      <td>0.0</td>\n",
              "      <td>0.0</td>\n",
              "      <td>0.0</td>\n",
              "      <td>0.0</td>\n",
              "      <td>0.0</td>\n",
              "      <td>0.0</td>\n",
              "      <td>0.0</td>\n",
              "      <td>0.0</td>\n",
              "      <td>0.0</td>\n",
              "      <td>0.0</td>\n",
              "      <td>0.0</td>\n",
              "      <td>0.0</td>\n",
              "      <td>0.0</td>\n",
              "      <td>0.0</td>\n",
              "      <td>0.0</td>\n",
              "      <td>0.0</td>\n",
              "      <td>0.0</td>\n",
              "      <td>0.0</td>\n",
              "      <td>0.0</td>\n",
              "      <td>0.0</td>\n",
              "      <td>0.0</td>\n",
              "      <td>0.0</td>\n",
              "      <td>0.0</td>\n",
              "      <td>0.0</td>\n",
              "      <td>0.0</td>\n",
              "      <td>0.0</td>\n",
              "      <td>0.0</td>\n",
              "      <td>0.0</td>\n",
              "      <td>0.0</td>\n",
              "      <td>0.0</td>\n",
              "      <td>0.0</td>\n",
              "      <td>0.0</td>\n",
              "    </tr>\n",
              "    <tr>\n",
              "      <th>5</th>\n",
              "      <td>0.0</td>\n",
              "      <td>0.0</td>\n",
              "      <td>0.0</td>\n",
              "      <td>0.0</td>\n",
              "      <td>0.0</td>\n",
              "      <td>2.0</td>\n",
              "      <td>0.0</td>\n",
              "      <td>0.0</td>\n",
              "      <td>0.0</td>\n",
              "      <td>0.0</td>\n",
              "      <td>0.0</td>\n",
              "      <td>0.0</td>\n",
              "      <td>0.0</td>\n",
              "      <td>0.0</td>\n",
              "      <td>0.0</td>\n",
              "      <td>3.0</td>\n",
              "      <td>0.0</td>\n",
              "      <td>0.0</td>\n",
              "      <td>0.0</td>\n",
              "      <td>0.0</td>\n",
              "      <td>0.0</td>\n",
              "      <td>0.0</td>\n",
              "      <td>0.0</td>\n",
              "      <td>1.0</td>\n",
              "      <td>0.0</td>\n",
              "      <td>0.0</td>\n",
              "      <td>0.0</td>\n",
              "      <td>0.0</td>\n",
              "      <td>5.0</td>\n",
              "      <td>0.0</td>\n",
              "      <td>0.0</td>\n",
              "      <td>4.0</td>\n",
              "      <td>0.0</td>\n",
              "      <td>4.0</td>\n",
              "      <td>0.0</td>\n",
              "      <td>3.0</td>\n",
              "      <td>0.0</td>\n",
              "      <td>0.0</td>\n",
              "      <td>3.0</td>\n",
              "      <td>0.0</td>\n",
              "      <td>...</td>\n",
              "      <td>0.0</td>\n",
              "      <td>0.0</td>\n",
              "      <td>0.0</td>\n",
              "      <td>0.0</td>\n",
              "      <td>0.0</td>\n",
              "      <td>0.0</td>\n",
              "      <td>0.0</td>\n",
              "      <td>0.0</td>\n",
              "      <td>0.0</td>\n",
              "      <td>0.0</td>\n",
              "      <td>0.0</td>\n",
              "      <td>0.0</td>\n",
              "      <td>0.0</td>\n",
              "      <td>0.0</td>\n",
              "      <td>0.0</td>\n",
              "      <td>0.0</td>\n",
              "      <td>0.0</td>\n",
              "      <td>0.0</td>\n",
              "      <td>0.0</td>\n",
              "      <td>0.0</td>\n",
              "      <td>0.0</td>\n",
              "      <td>0.0</td>\n",
              "      <td>0.0</td>\n",
              "      <td>0.0</td>\n",
              "      <td>0.0</td>\n",
              "      <td>0.0</td>\n",
              "      <td>0.0</td>\n",
              "      <td>0.0</td>\n",
              "      <td>0.0</td>\n",
              "      <td>0.0</td>\n",
              "      <td>0.0</td>\n",
              "      <td>0.0</td>\n",
              "      <td>0.0</td>\n",
              "      <td>0.0</td>\n",
              "      <td>0.0</td>\n",
              "      <td>0.0</td>\n",
              "      <td>0.0</td>\n",
              "      <td>0.0</td>\n",
              "      <td>0.0</td>\n",
              "      <td>0.0</td>\n",
              "    </tr>\n",
              "  </tbody>\n",
              "</table>\n",
              "<p>5 rows × 3706 columns</p>\n",
              "</div>"
            ],
            "text/plain": [
              "movie_id  1     2     3     4     5     ...  3948  3949  3950  3951  3952\n",
              "user_id                                 ...                              \n",
              "1          5.0   0.0   0.0   0.0   0.0  ...   0.0   0.0   0.0   0.0   0.0\n",
              "2          0.0   0.0   0.0   0.0   0.0  ...   0.0   0.0   0.0   0.0   0.0\n",
              "3          0.0   0.0   0.0   0.0   0.0  ...   0.0   0.0   0.0   0.0   0.0\n",
              "4          0.0   0.0   0.0   0.0   0.0  ...   0.0   0.0   0.0   0.0   0.0\n",
              "5          0.0   0.0   0.0   0.0   0.0  ...   0.0   0.0   0.0   0.0   0.0\n",
              "\n",
              "[5 rows x 3706 columns]"
            ]
          },
          "metadata": {
            "tags": []
          },
          "execution_count": 20
        }
      ]
    },
    {
      "cell_type": "markdown",
      "metadata": {
        "id": "6IbvgL7xZh2P",
        "colab_type": "text"
      },
      "source": [
        "De-Normalize data after normalization by mean of each users"
      ]
    },
    {
      "cell_type": "code",
      "metadata": {
        "id": "Z7exxv42ZVzw",
        "colab_type": "code",
        "colab": {}
      },
      "source": [
        "R = np.array(new_ratings)\n",
        "user_ratings_mean = np.mean(R, axis = 1)\n",
        "denorm_ratings = R - user_ratings_mean.reshape(-1, 1)"
      ],
      "execution_count": null,
      "outputs": []
    },
    {
      "cell_type": "code",
      "metadata": {
        "id": "ZS8-0x1SZzlg",
        "colab_type": "code",
        "colab": {
          "base_uri": "https://localhost:8080/",
          "height": 34
        },
        "outputId": "88672de4-1f61-4000-c84d-7a3ff214af50"
      },
      "source": [
        "sparsity = round(1.0 - len(svd_rs_ratings) / float(n_users * n_movies), 3)\n",
        "print('The sparsity of dataset is ',str(sparsity * 100))"
      ],
      "execution_count": null,
      "outputs": [
        {
          "output_type": "stream",
          "text": [
            "The sparsity of dataset is  95.5\n"
          ],
          "name": "stdout"
        }
      ]
    },
    {
      "cell_type": "markdown",
      "metadata": {
        "id": "B0sZU8yrc0f6",
        "colab_type": "text"
      },
      "source": [
        "Singular Vector Decompostion with scipy as it has manual latent factor value.\n",
        "\n",
        "The svd function will decompose the matrix to three matrices."
      ]
    },
    {
      "cell_type": "code",
      "metadata": {
        "id": "4RO_yRJNcFEk",
        "colab_type": "code",
        "colab": {}
      },
      "source": [
        "U, sigma, Vt = svds(denorm_ratings, k = 50)\n",
        "\n",
        "# Change sigma values to a diagonal matrix\n",
        "sigma = np.diag(sigma)"
      ],
      "execution_count": null,
      "outputs": []
    },
    {
      "cell_type": "code",
      "metadata": {
        "id": "cojx6MRie48P",
        "colab_type": "code",
        "colab": {}
      },
      "source": [
        "predicted_ratings = np.dot(np.dot(U, sigma), Vt) + user_ratings_mean.reshape(-1, 1)\n",
        "preds = pd.DataFrame(predicted_ratings, columns = new_ratings.columns)"
      ],
      "execution_count": null,
      "outputs": []
    },
    {
      "cell_type": "code",
      "metadata": {
        "id": "Haf4CeU3fw3B",
        "colab_type": "code",
        "colab": {}
      },
      "source": [
        "def svd_recommendations(predictions, userID, movies, user_ratings, num_movies):\n",
        "    \n",
        "    row_number = userID - 1\n",
        "    sorted_user_predictions = preds.iloc[row_number].sort_values(ascending=False) # User ID starts at 1\n",
        "    \n",
        "    data = user_ratings[user_ratings.user_id == (userID)]\n",
        "    full_data = (data.merge(movies, how = 'left', left_on = 'movie_id', right_on = 'movie_id').sort_values(['rating'], ascending=False))\n",
        "\n",
        "    print('Movies rated by user {0}:'.format(userID), full_data.shape[0])\n",
        "\n",
        "    # Recommendations by highest predicted ratings.\n",
        "    predictions = (movies[~movies['movie_id'].isin(full_data['movie_id'])].merge(pd.DataFrame(sorted_user_predictions).reset_index(), how = 'left',left_on = 'movie_id',right_on = 'movie_id').rename(columns = {row_number: 'Predictions'}).sort_values('Predictions', ascending = False).iloc[:num_movies, :-1])\n",
        "\n",
        "    return full_data, predictions"
      ],
      "execution_count": null,
      "outputs": []
    },
    {
      "cell_type": "code",
      "metadata": {
        "id": "4sC3lW51f9ak",
        "colab_type": "code",
        "colab": {
          "base_uri": "https://localhost:8080/",
          "height": 34
        },
        "outputId": "f50cb56f-f323-4811-9c7f-ae39f1d49d4a"
      },
      "source": [
        "previous_ratings, predictions = svd_recommendations(preds, 999, svd_rs_movies, svd_rs_ratings, 10)"
      ],
      "execution_count": null,
      "outputs": [
        {
          "output_type": "stream",
          "text": [
            "Movies rated by user 999: 412\n"
          ],
          "name": "stdout"
        }
      ]
    },
    {
      "cell_type": "code",
      "metadata": {
        "id": "jfldNEuvjnoG",
        "colab_type": "code",
        "colab": {
          "base_uri": "https://localhost:8080/",
          "height": 359
        },
        "outputId": "e9b3ee38-9db0-4e0b-ba19-10d81009b16d"
      },
      "source": [
        "previous_ratings.head(10)"
      ],
      "execution_count": null,
      "outputs": [
        {
          "output_type": "execute_result",
          "data": {
            "text/html": [
              "<div>\n",
              "<style scoped>\n",
              "    .dataframe tbody tr th:only-of-type {\n",
              "        vertical-align: middle;\n",
              "    }\n",
              "\n",
              "    .dataframe tbody tr th {\n",
              "        vertical-align: top;\n",
              "    }\n",
              "\n",
              "    .dataframe thead th {\n",
              "        text-align: right;\n",
              "    }\n",
              "</style>\n",
              "<table border=\"1\" class=\"dataframe\">\n",
              "  <thead>\n",
              "    <tr style=\"text-align: right;\">\n",
              "      <th></th>\n",
              "      <th>user_id</th>\n",
              "      <th>movie_id</th>\n",
              "      <th>rating</th>\n",
              "      <th>timestamp</th>\n",
              "      <th>title</th>\n",
              "      <th>genres</th>\n",
              "    </tr>\n",
              "  </thead>\n",
              "  <tbody>\n",
              "    <tr>\n",
              "      <th>290</th>\n",
              "      <td>999</td>\n",
              "      <td>3386</td>\n",
              "      <td>5</td>\n",
              "      <td>975363490</td>\n",
              "      <td>JFK (1991)</td>\n",
              "      <td>Drama|Mystery</td>\n",
              "    </tr>\n",
              "    <tr>\n",
              "      <th>184</th>\n",
              "      <td>999</td>\n",
              "      <td>805</td>\n",
              "      <td>5</td>\n",
              "      <td>975363780</td>\n",
              "      <td>Time to Kill, A (1996)</td>\n",
              "      <td>Drama</td>\n",
              "    </tr>\n",
              "    <tr>\n",
              "      <th>48</th>\n",
              "      <td>999</td>\n",
              "      <td>2411</td>\n",
              "      <td>5</td>\n",
              "      <td>975046875</td>\n",
              "      <td>Rocky IV (1985)</td>\n",
              "      <td>Action|Drama</td>\n",
              "    </tr>\n",
              "    <tr>\n",
              "      <th>382</th>\n",
              "      <td>999</td>\n",
              "      <td>1213</td>\n",
              "      <td>5</td>\n",
              "      <td>975048027</td>\n",
              "      <td>GoodFellas (1990)</td>\n",
              "      <td>Crime|Drama</td>\n",
              "    </tr>\n",
              "    <tr>\n",
              "      <th>381</th>\n",
              "      <td>999</td>\n",
              "      <td>3753</td>\n",
              "      <td>5</td>\n",
              "      <td>975044156</td>\n",
              "      <td>Patriot, The (2000)</td>\n",
              "      <td>Action|Drama|War</td>\n",
              "    </tr>\n",
              "    <tr>\n",
              "      <th>380</th>\n",
              "      <td>999</td>\n",
              "      <td>1210</td>\n",
              "      <td>5</td>\n",
              "      <td>975043866</td>\n",
              "      <td>Star Wars: Episode VI - Return of the Jedi (1983)</td>\n",
              "      <td>Action|Adventure|Romance|Sci-Fi|War</td>\n",
              "    </tr>\n",
              "    <tr>\n",
              "      <th>293</th>\n",
              "      <td>999</td>\n",
              "      <td>318</td>\n",
              "      <td>5</td>\n",
              "      <td>975047680</td>\n",
              "      <td>Shawshank Redemption, The (1994)</td>\n",
              "      <td>Drama</td>\n",
              "    </tr>\n",
              "    <tr>\n",
              "      <th>30</th>\n",
              "      <td>999</td>\n",
              "      <td>919</td>\n",
              "      <td>5</td>\n",
              "      <td>975363017</td>\n",
              "      <td>Wizard of Oz, The (1939)</td>\n",
              "      <td>Adventure|Children's|Drama|Musical</td>\n",
              "    </tr>\n",
              "    <tr>\n",
              "      <th>110</th>\n",
              "      <td>999</td>\n",
              "      <td>2641</td>\n",
              "      <td>5</td>\n",
              "      <td>975045995</td>\n",
              "      <td>Superman II (1980)</td>\n",
              "      <td>Action|Adventure|Sci-Fi</td>\n",
              "    </tr>\n",
              "    <tr>\n",
              "      <th>186</th>\n",
              "      <td>999</td>\n",
              "      <td>1196</td>\n",
              "      <td>5</td>\n",
              "      <td>975042787</td>\n",
              "      <td>Star Wars: Episode V - The Empire Strikes Back...</td>\n",
              "      <td>Action|Adventure|Drama|Sci-Fi|War</td>\n",
              "    </tr>\n",
              "  </tbody>\n",
              "</table>\n",
              "</div>"
            ],
            "text/plain": [
              "     user_id  ...                               genres\n",
              "290      999  ...                        Drama|Mystery\n",
              "184      999  ...                                Drama\n",
              "48       999  ...                         Action|Drama\n",
              "382      999  ...                          Crime|Drama\n",
              "381      999  ...                     Action|Drama|War\n",
              "380      999  ...  Action|Adventure|Romance|Sci-Fi|War\n",
              "293      999  ...                                Drama\n",
              "30       999  ...   Adventure|Children's|Drama|Musical\n",
              "110      999  ...              Action|Adventure|Sci-Fi\n",
              "186      999  ...    Action|Adventure|Drama|Sci-Fi|War\n",
              "\n",
              "[10 rows x 6 columns]"
            ]
          },
          "metadata": {
            "tags": []
          },
          "execution_count": 27
        }
      ]
    },
    {
      "cell_type": "code",
      "metadata": {
        "id": "y5E63NePjsex",
        "colab_type": "code",
        "colab": {
          "base_uri": "https://localhost:8080/",
          "height": 204
        },
        "outputId": "28da4d47-d756-4104-bf75-c31b6be8dfc3"
      },
      "source": [
        "print(predictions)"
      ],
      "execution_count": null,
      "outputs": [
        {
          "output_type": "stream",
          "text": [
            "      movie_id                            title                   genres\n",
            "1928      2268           Few Good Men, A (1992)              Crime|Drama\n",
            "312        377                     Speed (1994)  Action|Romance|Thriller\n",
            "359        434               Cliffhanger (1993)   Action|Adventure|Crime\n",
            "394        480             Jurassic Park (1993)  Action|Adventure|Sci-Fi\n",
            "2667      3082  World Is Not Enough, The (1999)          Action|Thriller\n",
            "124        150                 Apollo 13 (1995)                    Drama\n",
            "2120      2490                   Payback (1999)          Action|Thriller\n",
            "1699      2023  Godfather: Part III, The (1990)       Action|Crime|Drama\n",
            "405        494        Executive Decision (1996)          Action|Thriller\n",
            "665        786                    Eraser (1996)          Action|Thriller\n"
          ],
          "name": "stdout"
        }
      ]
    },
    {
      "cell_type": "markdown",
      "metadata": {
        "id": "eYg1GZPbkBpr",
        "colab_type": "text"
      },
      "source": [
        "Intresting Observation here would be that even though movie genres were not explicitly, our model still recognized the implicit factor in the recommendation"
      ]
    },
    {
      "cell_type": "markdown",
      "metadata": {
        "id": "fZPQ5BIgoIjC",
        "colab_type": "text"
      },
      "source": [
        "# Deep Learning Implementation\n",
        "\n",
        "Sequential Model from Keras is used.\n"
      ]
    },
    {
      "cell_type": "code",
      "metadata": {
        "id": "Kx1-7aWWqavl",
        "colab_type": "code",
        "colab": {}
      },
      "source": [
        "dl_ratings = pd.read_csv('ratings.csv', sep='\\t', encoding='latin-1', usecols=['user_id', 'movie_id', 'user_emb_id', 'movie_emb_id', 'rating'])\n",
        "dl_total_user = dl_ratings['user_id'].drop_duplicates().max()\n",
        "dl_total_movies = dl_ratings['movie_id'].drop_duplicates().max()\n",
        "\n",
        "dl_users = pd.read_csv('users.csv', sep='\\t', encoding='latin-1', usecols=['user_id', 'gender', 'zipcode', 'age_desc', 'occ_desc'])\n",
        "\n",
        "dl_movies = pd.read_csv('movies.csv', sep='\\t', encoding='latin-1', usecols=['movie_id', 'title', 'genres'])"
      ],
      "execution_count": null,
      "outputs": []
    },
    {
      "cell_type": "code",
      "metadata": {
        "id": "xl7jPGnaq-G_",
        "colab_type": "code",
        "colab": {
          "base_uri": "https://localhost:8080/",
          "height": 68
        },
        "outputId": "169ec43c-a1af-4496-e332-eb0c1d0a7c33"
      },
      "source": [
        "shuffled_dl_ratings = dl_ratings.sample(frac=1., random_state=1)\n",
        "new_users = shuffled_dl_ratings['user_emb_id'].values\n",
        "print(new_users, ', shape =', new_users.shape)\n",
        "\n",
        "new_movies = shuffled_dl_ratings['movie_emb_id'].values\n",
        "print(new_movies, ', shape =', new_movies.shape)\n",
        "\n",
        "new_ratings = shuffled_dl_ratings['rating'].values\n",
        "print(new_ratings, ', shape =', new_ratings.shape)"
      ],
      "execution_count": null,
      "outputs": [
        {
          "output_type": "stream",
          "text": [
            "[3808 1388 4509 ... 2898 3024  827] , shape = (1000209,)\n",
            "[2923 1956 1478 ... 2663 1295 1380] , shape = (1000209,)\n",
            "[4 4 2 ... 4 5 2] , shape = (1000209,)\n"
          ],
          "name": "stdout"
        }
      ]
    },
    {
      "cell_type": "markdown",
      "metadata": {
        "id": "jclGoSluQ8zX",
        "colab_type": "text"
      },
      "source": [
        "A Shallow Model"
      ]
    },
    {
      "cell_type": "code",
      "metadata": {
        "id": "f2UCNSBjj5Qh",
        "colab_type": "code",
        "colab": {
          "base_uri": "https://localhost:8080/",
          "height": 71
        },
        "outputId": "285bf88d-2563-4321-c701-0e5bd12c57e9"
      },
      "source": [
        "# Deep Learning Model Architecture.\n",
        "n_users = dl_total_user\n",
        "m_items = dl_total_movies\n",
        "k_factors = 100\n",
        "\n",
        "P = Sequential()\n",
        "P.add(Embedding(n_users, k_factors, input_length=1))\n",
        "P.add(Reshape((k_factors,)))\n",
        "Q = Sequential()\n",
        "Q.add(Embedding(m_items, k_factors, input_length=1))\n",
        "Q.add(Reshape((k_factors,)))\n",
        "\n",
        "merged_output = dot([P.output, Q.output], axes=1)\n",
        "output_model = Sequential()\n",
        "opt = optimizers.Adamax()\n",
        "model = Model(input=[P.input, Q.input], output=output_model(merged_output))\n",
        "model.compile(loss='mse', optimizer=opt)"
      ],
      "execution_count": null,
      "outputs": [
        {
          "output_type": "stream",
          "text": [
            "/usr/local/lib/python3.6/dist-packages/ipykernel_launcher.py:15: UserWarning: Update your `Model` call to the Keras 2 API: `Model(inputs=[<tf.Tenso..., outputs=Tensor(\"se...)`\n",
            "  from ipykernel import kernelapp as app\n"
          ],
          "name": "stderr"
        }
      ]
    },
    {
      "cell_type": "code",
      "metadata": {
        "id": "zZdOWhBcQP67",
        "colab_type": "code",
        "colab": {
          "base_uri": "https://localhost:8080/",
          "height": 544
        },
        "outputId": "352e8207-21d8-4645-9abd-c8d54af1b50b"
      },
      "source": [
        "callbacks = [EarlyStopping('val_loss', patience=2), ModelCheckpoint('weights.h5', save_best_only=True)]\n",
        "\n",
        "# Using 30 epochs, 90% training data, 10% validation data \n",
        "history = model.fit([new_users, new_movies], new_ratings, epochs=30, validation_split=.1, verbose=2, callbacks=callbacks)"
      ],
      "execution_count": null,
      "outputs": [
        {
          "output_type": "stream",
          "text": [
            "Train on 900188 samples, validate on 100021 samples\n",
            "Epoch 1/30\n",
            " - 200s - loss: 0.8971 - val_loss: 0.8795\n",
            "Epoch 2/30\n",
            " - 210s - loss: 0.8469 - val_loss: 0.8489\n",
            "Epoch 3/30\n",
            " - 207s - loss: 0.8161 - val_loss: 0.8269\n",
            "Epoch 4/30\n",
            " - 207s - loss: 0.7922 - val_loss: 0.8116\n",
            "Epoch 5/30\n",
            " - 208s - loss: 0.7712 - val_loss: 0.7978\n",
            "Epoch 6/30\n",
            " - 200s - loss: 0.7512 - val_loss: 0.7885\n",
            "Epoch 7/30\n",
            " - 201s - loss: 0.7313 - val_loss: 0.7790\n",
            "Epoch 8/30\n",
            " - 202s - loss: 0.7116 - val_loss: 0.7694\n",
            "Epoch 9/30\n",
            " - 198s - loss: 0.6915 - val_loss: 0.7626\n",
            "Epoch 10/30\n",
            " - 193s - loss: 0.6710 - val_loss: 0.7588\n",
            "Epoch 11/30\n",
            " - 189s - loss: 0.6502 - val_loss: 0.7543\n",
            "Epoch 12/30\n",
            " - 189s - loss: 0.6293 - val_loss: 0.7519\n",
            "Epoch 13/30\n",
            " - 188s - loss: 0.6082 - val_loss: 0.7486\n",
            "Epoch 14/30\n",
            " - 188s - loss: 0.5873 - val_loss: 0.7502\n",
            "Epoch 15/30\n",
            " - 188s - loss: 0.5667 - val_loss: 0.7493\n"
          ],
          "name": "stdout"
        }
      ]
    },
    {
      "cell_type": "code",
      "metadata": {
        "id": "vn3-K6KaSWSH",
        "colab_type": "code",
        "colab": {
          "base_uri": "https://localhost:8080/",
          "height": 289
        },
        "outputId": "7ea728e4-3117-44ae-ff48-bfd8a9ec4e47"
      },
      "source": [
        "loss = pd.DataFrame({'epoch': [ i + 1 for i in history.epoch ],\n",
        "                     'training': [ sqrt(loss) for loss in history.history['loss'] ],\n",
        "                     'validation': [ sqrt(loss) for loss in history.history['val_loss'] ]})\n",
        "ax = loss.iloc[:,:].plot(x='epoch')\n",
        "ax.set_ylabel(\"root mean squared error\")\n",
        "ax.set_ylim([0.5,1.0]);"
      ],
      "execution_count": null,
      "outputs": [
        {
          "output_type": "display_data",
          "data": {
            "image/png": "[encoded data removed]",
            "text/plain": [
              "<Figure size 432x288 with 1 Axes>"
            ]
          },
          "metadata": {
            "tags": [],
            "needs_background": "light"
          }
        }
      ]
    },
    {
      "cell_type": "code",
      "metadata": {
        "id": "c-xsKvL13Nj8",
        "colab_type": "code",
        "colab": {
          "base_uri": "https://localhost:8080/",
          "height": 34
        },
        "outputId": "171473bc-a2f8-4632-b85e-5b86de7ce916"
      },
      "source": [
        "# Show the best validation RMSE\n",
        "min_val_loss, idx = min((val, idx) for (idx, val) in enumerate(history.history['val_loss']))\n",
        "print('Minimum RMSE at epoch', '{:d}'.format(idx+1), '=', '{:.4f}'.format(sqrt(min_val_loss)))"
      ],
      "execution_count": null,
      "outputs": [
        {
          "output_type": "stream",
          "text": [
            "Minimum RMSE at epoch 13 = 0.8652\n"
          ],
          "name": "stdout"
        }
      ]
    },
    {
      "cell_type": "code",
      "metadata": {
        "id": "72a0aQ3-3box",
        "colab_type": "code",
        "colab": {
          "base_uri": "https://localhost:8080/",
          "height": 80
        },
        "outputId": "0142c795-5110-481f-e3a9-ceabdce643e5"
      },
      "source": [
        "# Use the pre-trained model\n",
        "trained_model = model\n",
        "# Load weights\n",
        "trained_model.load_weights('weights.h5')\n",
        "# Pick a random test user\n",
        "dl_users[dl_users['user_id'] == 777]"
      ],
      "execution_count": null,
      "outputs": [
        {
          "output_type": "execute_result",
          "data": {
            "text/html": [
              "<div>\n",
              "<style scoped>\n",
              "    .dataframe tbody tr th:only-of-type {\n",
              "        vertical-align: middle;\n",
              "    }\n",
              "\n",
              "    .dataframe tbody tr th {\n",
              "        vertical-align: top;\n",
              "    }\n",
              "\n",
              "    .dataframe thead th {\n",
              "        text-align: right;\n",
              "    }\n",
              "</style>\n",
              "<table border=\"1\" class=\"dataframe\">\n",
              "  <thead>\n",
              "    <tr style=\"text-align: right;\">\n",
              "      <th></th>\n",
              "      <th>user_id</th>\n",
              "      <th>gender</th>\n",
              "      <th>zipcode</th>\n",
              "      <th>age_desc</th>\n",
              "      <th>occ_desc</th>\n",
              "    </tr>\n",
              "  </thead>\n",
              "  <tbody>\n",
              "    <tr>\n",
              "      <th>776</th>\n",
              "      <td>777</td>\n",
              "      <td>M</td>\n",
              "      <td>87543</td>\n",
              "      <td>18-24</td>\n",
              "      <td>unemployed</td>\n",
              "    </tr>\n",
              "  </tbody>\n",
              "</table>\n",
              "</div>"
            ],
            "text/plain": [
              "     user_id gender zipcode age_desc    occ_desc\n",
              "776      777      M   87543    18-24  unemployed"
            ]
          },
          "metadata": {
            "tags": []
          },
          "execution_count": 39
        }
      ]
    },
    {
      "cell_type": "code",
      "metadata": {
        "id": "FwvY6-2I4Iyk",
        "colab_type": "code",
        "colab": {}
      },
      "source": [
        "# Prediction function Deep Learning\n",
        "def predict_rating(user_id, movie_id):\n",
        "    return trained_model.predict([np.array([user_id-1]), np.array([movie_id-1])])[0][0]"
      ],
      "execution_count": null,
      "outputs": []
    },
    {
      "cell_type": "code",
      "metadata": {
        "id": "QDRdnlog4u7B",
        "colab_type": "code",
        "colab": {
          "base_uri": "https://localhost:8080/",
          "height": 359
        },
        "outputId": "bd3eb625-7ff1-4981-9664-8e1836e1b251"
      },
      "source": [
        "# Top rated movies by user 777\n",
        "dl_user_ratings = dl_ratings[dl_ratings['user_id'] == 777][['user_id', 'movie_id', 'rating']]\n",
        "dl_user_ratings['prediction'] = dl_user_ratings.apply(lambda x: predict_rating(777, x['movie_id']), axis=1)\n",
        "dl_user_ratings.sort_values(by='rating', ascending=False).merge(dl_movies, on='movie_id', how='inner', suffixes=['_u', '_m']).head(10)"
      ],
      "execution_count": null,
      "outputs": [
        {
          "output_type": "execute_result",
          "data": {
            "text/html": [
              "<div>\n",
              "<style scoped>\n",
              "    .dataframe tbody tr th:only-of-type {\n",
              "        vertical-align: middle;\n",
              "    }\n",
              "\n",
              "    .dataframe tbody tr th {\n",
              "        vertical-align: top;\n",
              "    }\n",
              "\n",
              "    .dataframe thead th {\n",
              "        text-align: right;\n",
              "    }\n",
              "</style>\n",
              "<table border=\"1\" class=\"dataframe\">\n",
              "  <thead>\n",
              "    <tr style=\"text-align: right;\">\n",
              "      <th></th>\n",
              "      <th>user_id</th>\n",
              "      <th>movie_id</th>\n",
              "      <th>rating</th>\n",
              "      <th>prediction</th>\n",
              "      <th>title</th>\n",
              "      <th>genres</th>\n",
              "    </tr>\n",
              "  </thead>\n",
              "  <tbody>\n",
              "    <tr>\n",
              "      <th>0</th>\n",
              "      <td>777</td>\n",
              "      <td>2571</td>\n",
              "      <td>5</td>\n",
              "      <td>3.865253</td>\n",
              "      <td>Matrix, The (1999)</td>\n",
              "      <td>Action|Sci-Fi|Thriller</td>\n",
              "    </tr>\n",
              "    <tr>\n",
              "      <th>1</th>\n",
              "      <td>777</td>\n",
              "      <td>246</td>\n",
              "      <td>5</td>\n",
              "      <td>2.586853</td>\n",
              "      <td>Hoop Dreams (1994)</td>\n",
              "      <td>Documentary</td>\n",
              "    </tr>\n",
              "    <tr>\n",
              "      <th>2</th>\n",
              "      <td>777</td>\n",
              "      <td>356</td>\n",
              "      <td>5</td>\n",
              "      <td>3.640148</td>\n",
              "      <td>Forrest Gump (1994)</td>\n",
              "      <td>Comedy|Romance|War</td>\n",
              "    </tr>\n",
              "    <tr>\n",
              "      <th>3</th>\n",
              "      <td>777</td>\n",
              "      <td>3793</td>\n",
              "      <td>5</td>\n",
              "      <td>3.349792</td>\n",
              "      <td>X-Men (2000)</td>\n",
              "      <td>Action|Sci-Fi</td>\n",
              "    </tr>\n",
              "    <tr>\n",
              "      <th>4</th>\n",
              "      <td>777</td>\n",
              "      <td>1909</td>\n",
              "      <td>4</td>\n",
              "      <td>3.002199</td>\n",
              "      <td>X-Files: Fight the Future, The (1998)</td>\n",
              "      <td>Mystery|Sci-Fi|Thriller</td>\n",
              "    </tr>\n",
              "    <tr>\n",
              "      <th>5</th>\n",
              "      <td>777</td>\n",
              "      <td>1196</td>\n",
              "      <td>4</td>\n",
              "      <td>3.773934</td>\n",
              "      <td>Star Wars: Episode V - The Empire Strikes Back...</td>\n",
              "      <td>Action|Adventure|Drama|Sci-Fi|War</td>\n",
              "    </tr>\n",
              "    <tr>\n",
              "      <th>6</th>\n",
              "      <td>777</td>\n",
              "      <td>1198</td>\n",
              "      <td>4</td>\n",
              "      <td>3.570285</td>\n",
              "      <td>Raiders of the Lost Ark (1981)</td>\n",
              "      <td>Action|Adventure</td>\n",
              "    </tr>\n",
              "    <tr>\n",
              "      <th>7</th>\n",
              "      <td>777</td>\n",
              "      <td>316</td>\n",
              "      <td>4</td>\n",
              "      <td>2.788357</td>\n",
              "      <td>Stargate (1994)</td>\n",
              "      <td>Action|Adventure|Sci-Fi</td>\n",
              "    </tr>\n",
              "    <tr>\n",
              "      <th>8</th>\n",
              "      <td>777</td>\n",
              "      <td>1356</td>\n",
              "      <td>4</td>\n",
              "      <td>2.700914</td>\n",
              "      <td>Star Trek: First Contact (1996)</td>\n",
              "      <td>Action|Adventure|Sci-Fi</td>\n",
              "    </tr>\n",
              "    <tr>\n",
              "      <th>9</th>\n",
              "      <td>777</td>\n",
              "      <td>527</td>\n",
              "      <td>4</td>\n",
              "      <td>3.783901</td>\n",
              "      <td>Schindler's List (1993)</td>\n",
              "      <td>Drama|War</td>\n",
              "    </tr>\n",
              "  </tbody>\n",
              "</table>\n",
              "</div>"
            ],
            "text/plain": [
              "   user_id  ...                             genres\n",
              "0      777  ...             Action|Sci-Fi|Thriller\n",
              "1      777  ...                        Documentary\n",
              "2      777  ...                 Comedy|Romance|War\n",
              "3      777  ...                      Action|Sci-Fi\n",
              "4      777  ...            Mystery|Sci-Fi|Thriller\n",
              "5      777  ...  Action|Adventure|Drama|Sci-Fi|War\n",
              "6      777  ...                   Action|Adventure\n",
              "7      777  ...            Action|Adventure|Sci-Fi\n",
              "8      777  ...            Action|Adventure|Sci-Fi\n",
              "9      777  ...                          Drama|War\n",
              "\n",
              "[10 rows x 6 columns]"
            ]
          },
          "metadata": {
            "tags": []
          },
          "execution_count": 41
        }
      ]
    },
    {
      "cell_type": "code",
      "metadata": {
        "id": "WiINapM06SYT",
        "colab_type": "code",
        "colab": {
          "base_uri": "https://localhost:8080/",
          "height": 359
        },
        "outputId": "9c9decb8-4cb0-4985-9d29-f45e1e65ab23"
      },
      "source": [
        "# Top 10 recommendations for user 777\n",
        "dl_recommendations = dl_ratings[dl_ratings['movie_id'].isin(dl_user_ratings['movie_id']) == False][['movie_id']].drop_duplicates()\n",
        "dl_recommendations['prediction'] = dl_recommendations.apply(lambda x: predict_rating(777, x['movie_id']), axis=1)\n",
        "dl_recommendations.sort_values(by='prediction',ascending=False).merge(dl_movies,on='movie_id',how='inner',suffixes=['_u', '_m']).head(10)"
      ],
      "execution_count": null,
      "outputs": [
        {
          "output_type": "execute_result",
          "data": {
            "text/html": [
              "<div>\n",
              "<style scoped>\n",
              "    .dataframe tbody tr th:only-of-type {\n",
              "        vertical-align: middle;\n",
              "    }\n",
              "\n",
              "    .dataframe tbody tr th {\n",
              "        vertical-align: top;\n",
              "    }\n",
              "\n",
              "    .dataframe thead th {\n",
              "        text-align: right;\n",
              "    }\n",
              "</style>\n",
              "<table border=\"1\" class=\"dataframe\">\n",
              "  <thead>\n",
              "    <tr style=\"text-align: right;\">\n",
              "      <th></th>\n",
              "      <th>movie_id</th>\n",
              "      <th>prediction</th>\n",
              "      <th>title</th>\n",
              "      <th>genres</th>\n",
              "    </tr>\n",
              "  </thead>\n",
              "  <tbody>\n",
              "    <tr>\n",
              "      <th>0</th>\n",
              "      <td>2706</td>\n",
              "      <td>3.525192</td>\n",
              "      <td>American Pie (1999)</td>\n",
              "      <td>Comedy</td>\n",
              "    </tr>\n",
              "    <tr>\n",
              "      <th>1</th>\n",
              "      <td>1704</td>\n",
              "      <td>3.487651</td>\n",
              "      <td>Good Will Hunting (1997)</td>\n",
              "      <td>Drama</td>\n",
              "    </tr>\n",
              "    <tr>\n",
              "      <th>2</th>\n",
              "      <td>3552</td>\n",
              "      <td>3.485019</td>\n",
              "      <td>Caddyshack (1980)</td>\n",
              "      <td>Comedy</td>\n",
              "    </tr>\n",
              "    <tr>\n",
              "      <th>3</th>\n",
              "      <td>2324</td>\n",
              "      <td>3.473895</td>\n",
              "      <td>Life Is Beautiful (La Vita Ã¨ bella) (1997)</td>\n",
              "      <td>Comedy|Drama</td>\n",
              "    </tr>\n",
              "    <tr>\n",
              "      <th>4</th>\n",
              "      <td>805</td>\n",
              "      <td>3.464467</td>\n",
              "      <td>Time to Kill, A (1996)</td>\n",
              "      <td>Drama</td>\n",
              "    </tr>\n",
              "    <tr>\n",
              "      <th>5</th>\n",
              "      <td>3421</td>\n",
              "      <td>3.449610</td>\n",
              "      <td>Animal House (1978)</td>\n",
              "      <td>Comedy</td>\n",
              "    </tr>\n",
              "    <tr>\n",
              "      <th>6</th>\n",
              "      <td>50</td>\n",
              "      <td>3.415160</td>\n",
              "      <td>Usual Suspects, The (1995)</td>\n",
              "      <td>Crime|Thriller</td>\n",
              "    </tr>\n",
              "    <tr>\n",
              "      <th>7</th>\n",
              "      <td>2371</td>\n",
              "      <td>3.318648</td>\n",
              "      <td>Fletch (1985)</td>\n",
              "      <td>Comedy</td>\n",
              "    </tr>\n",
              "    <tr>\n",
              "      <th>8</th>\n",
              "      <td>2058</td>\n",
              "      <td>3.263370</td>\n",
              "      <td>Negotiator, The (1998)</td>\n",
              "      <td>Action|Thriller</td>\n",
              "    </tr>\n",
              "    <tr>\n",
              "      <th>9</th>\n",
              "      <td>47</td>\n",
              "      <td>3.260789</td>\n",
              "      <td>Seven (Se7en) (1995)</td>\n",
              "      <td>Crime|Thriller</td>\n",
              "    </tr>\n",
              "  </tbody>\n",
              "</table>\n",
              "</div>"
            ],
            "text/plain": [
              "   movie_id  ...           genres\n",
              "0      2706  ...           Comedy\n",
              "1      1704  ...            Drama\n",
              "2      3552  ...           Comedy\n",
              "3      2324  ...     Comedy|Drama\n",
              "4       805  ...            Drama\n",
              "5      3421  ...           Comedy\n",
              "6        50  ...   Crime|Thriller\n",
              "7      2371  ...           Comedy\n",
              "8      2058  ...  Action|Thriller\n",
              "9        47  ...   Crime|Thriller\n",
              "\n",
              "[10 rows x 4 columns]"
            ]
          },
          "metadata": {
            "tags": []
          },
          "execution_count": 42
        }
      ]
    },
    {
      "cell_type": "markdown",
      "metadata": {
        "id": "bdKWUkRRQ4r0",
        "colab_type": "text"
      },
      "source": [
        "A Deeper Model. (Added Layers)"
      ]
    },
    {
      "cell_type": "code",
      "metadata": {
        "id": "0sf7YTBDUPLk",
        "colab_type": "code",
        "colab": {}
      },
      "source": [
        "dm_n_users = dl_total_user\n",
        "dm_m_items = dl_total_movies\n",
        "dm_k_factors = 100\n",
        "dm_min_rating = min(dl_ratings['rating'])\n",
        "dm_max_rating = max(dl_ratings['rating'])"
      ],
      "execution_count": null,
      "outputs": []
    },
    {
      "cell_type": "code",
      "metadata": {
        "id": "8Scb5DcoV6dx",
        "colab_type": "code",
        "colab": {
          "base_uri": "https://localhost:8080/",
          "height": 54
        },
        "outputId": "124e826d-a472-482b-cd7c-e67b378909df"
      },
      "source": [
        "# Deep Learning Model Architecture (More Layers) Trails: Mark 1.\n",
        "def RecommenderNet(n_users, n_movies, n_factors, min_rating, max_rating):\n",
        "    user = Input(shape=(1,))\n",
        "    u = EmbeddingLayer(n_users, n_factors)(user)\n",
        "    \n",
        "    movie = Input(shape=(1,))\n",
        "    m = EmbeddingLayer(n_movies, n_factors)(movie)\n",
        "    \n",
        "    x = Concatenate()([u, m])\n",
        "    x = Dropout(0.05)(x)\n",
        "    \n",
        "    x = Dense(10, kernel_initializer='he_normal')(x)\n",
        "    x = Activation('relu')(x)\n",
        "    x = Dropout(0.5)(x)\n",
        "    \n",
        "    x = Dense(1, kernel_initializer='he_normal')(x)\n",
        "    x = Activation('sigmoid')(x)\n",
        "    x = Lambda(lambda x: x * (max_rating - min_rating) + min_rating)(x)\n",
        "    model = Model(inputs=[user, movie], outputs=x)\n",
        "    opt = Adam(lr=0.001)\n",
        "    model.compile(loss='mean_squared_error', optimizer=opt)\n",
        "    return model\n",
        "\n",
        "# dm_P = Sequential()\n",
        "# dm_P.add(Embedding(n_users, k_factors, input_length=1))\n",
        "# dm_P.add(Reshape((k_factors,)))\n",
        "\n",
        "# dm_Q = Sequential()\n",
        "# dm_Q.add(Embedding(m_items, k_factors, input_length=1))\n",
        "# dm_Q.add(Reshape((k_factors,)))\n",
        "\n",
        "# dm_merged_output = dot([dm_P.output, dm_Q.output], axes=1)\n",
        "# dm_output_model = Sequential()\n",
        "#Previous Edit\n",
        "# dm_output_model.add(Dropout(0.1))\n",
        "# dm_output_model.add(Activation('relu'))\n",
        "# dm_output_model.add(Dense(k_factors))\n",
        "# dm_output_model.add(Dropout(0.1))\n",
        "# dm_output_model.add(Activation('linear'))\n",
        "# dm_output_model.add(Dense(1))\n",
        "#New Edit\n",
        "# dm_output_model.add(Activation('sigmoid'))\n",
        "# dm_output_model.add(Lambda(lambda x: x * (max_rating - min_rating) + min_rating))\n",
        "\n",
        "\n",
        "opt = optimizers.Adam(learning_rate=0.001)\n",
        "dm_model = Model(input=[dm_P.input, dm_Q.input], output=dm_output_model(dm_merged_output))\n",
        "dm_model.compile(loss='mean_squared_error', optimizer=opt)"
      ],
      "execution_count": null,
      "outputs": [
        {
          "output_type": "stream",
          "text": [
            "/usr/local/lib/python3.6/dist-packages/ipykernel_launcher.py:46: UserWarning: Update your `Model` call to the Keras 2 API: `Model(inputs=[<tf.Tenso..., outputs=Tensor(\"se...)`\n"
          ],
          "name": "stderr"
        }
      ]
    },
    {
      "cell_type": "code",
      "metadata": {
        "id": "xFFGfXHCWxYV",
        "colab_type": "code",
        "colab": {
          "base_uri": "https://localhost:8080/",
          "height": 190
        },
        "outputId": "4dbe093c-7662-4972-c2a6-bea4db1ebeb6"
      },
      "source": [
        "dm_callbacks = [EarlyStopping('val_loss', patience=2), ModelCheckpoint('dm_weights.h5', save_best_only=True)]\n",
        "\n",
        "# Using 30 epochs, 90% training data, 10% validation data \n",
        "dm_history = dm_model.fit([new_users, new_movies], new_ratings, epochs=30, validation_split=.1, verbose=2, callbacks=dm_callbacks)"
      ],
      "execution_count": null,
      "outputs": [
        {
          "output_type": "stream",
          "text": [
            "/usr/local/lib/python3.6/dist-packages/tensorflow/python/framework/indexed_slices.py:434: UserWarning: Converting sparse IndexedSlices to a dense Tensor of unknown shape. This may consume a large amount of memory.\n",
            "  \"Converting sparse IndexedSlices to a dense Tensor of unknown shape. \"\n"
          ],
          "name": "stderr"
        },
        {
          "output_type": "stream",
          "text": [
            "Train on 900188 samples, validate on 100021 samples\n",
            "Epoch 1/30\n",
            " - 802s - loss: 0.9238 - val_loss: 0.7747\n",
            "Epoch 2/30\n",
            " - 791s - loss: 0.6292 - val_loss: 0.7754\n",
            "Epoch 3/30\n",
            " - 791s - loss: 0.4702 - val_loss: 0.8448\n"
          ],
          "name": "stdout"
        }
      ]
    },
    {
      "cell_type": "code",
      "metadata": {
        "id": "9L-TtWmtqVYj",
        "colab_type": "code",
        "colab": {
          "base_uri": "https://localhost:8080/",
          "height": 34
        },
        "outputId": "12ec5280-a842-4a25-cc0d-671ed89a113a"
      },
      "source": [
        "# Show the best validation RMSE\n",
        "dm_min_val_loss, dm_idx = min((val, idx) for (idx, val) in enumerate(dm_history.history['val_loss']))\n",
        "print('Minimum RMSE at epoch', '{:d}'.format(dm_idx+1), '=', '{:.4f}'.format(sqrt(dm_min_val_loss)))"
      ],
      "execution_count": null,
      "outputs": [
        {
          "output_type": "stream",
          "text": [
            "Minimum RMSE at epoch 5 = 0.9617\n"
          ],
          "name": "stdout"
        }
      ]
    }
  ]
}